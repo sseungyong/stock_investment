{
 "cells": [
  {
   "cell_type": "code",
   "execution_count": 23,
   "metadata": {},
   "outputs": [],
   "source": [
    "import numpy as np\n",
    "import pandas as pd\n",
    "from selenium import webdriver as wd\n",
    "from bs4 import BeautifulSoup as bs\n",
    "import requests\n",
    "from datetime import datetime as dt"
   ]
  },
  {
   "cell_type": "code",
   "execution_count": 17,
   "metadata": {},
   "outputs": [],
   "source": [
    "main_url = \"http://asp1.krx.co.kr/servlet/krx.asp.XMLSiseEng?code=\"\n",
    "#http://marketdata.krx.co.kr/mdi#document=040601"
   ]
  },
  {
   "cell_type": "code",
   "execution_count": 18,
   "metadata": {},
   "outputs": [],
   "source": [
    "feature_names=['day_date', 'code', 'day_low', 'day_high', 'day_start', 'day_endprice', 'day_dungrak', 'day_getdebi', 'day_volume', 'day_getamount']"
   ]
  },
  {
   "cell_type": "code",
   "execution_count": 19,
   "metadata": {},
   "outputs": [],
   "source": [
    "stock_code = pd.read_csv('code_data.csv')"
   ]
  },
  {
   "cell_type": "code",
   "execution_count": 20,
   "metadata": {},
   "outputs": [
    {
     "data": {
      "text/html": [
       "<div>\n",
       "<style scoped>\n",
       "    .dataframe tbody tr th:only-of-type {\n",
       "        vertical-align: middle;\n",
       "    }\n",
       "\n",
       "    .dataframe tbody tr th {\n",
       "        vertical-align: top;\n",
       "    }\n",
       "\n",
       "    .dataframe thead th {\n",
       "        text-align: right;\n",
       "    }\n",
       "</style>\n",
       "<table border=\"1\" class=\"dataframe\">\n",
       "  <thead>\n",
       "    <tr style=\"text-align: right;\">\n",
       "      <th></th>\n",
       "      <th>번호</th>\n",
       "      <th>종목코드</th>\n",
       "      <th>기업명</th>\n",
       "      <th>업종코드</th>\n",
       "      <th>업종</th>\n",
       "      <th>상장주식수(주)</th>\n",
       "      <th>자본금(원)</th>\n",
       "      <th>액면가(원)</th>\n",
       "      <th>통화구분</th>\n",
       "      <th>대표전화</th>\n",
       "      <th>주소</th>\n",
       "      <th>총카운트</th>\n",
       "      <th>Unnamed: 12</th>\n",
       "    </tr>\n",
       "  </thead>\n",
       "  <tbody>\n",
       "    <tr>\n",
       "      <td>0</td>\n",
       "      <td>1</td>\n",
       "      <td>95570</td>\n",
       "      <td>AJ네트웍스</td>\n",
       "      <td>147603</td>\n",
       "      <td>산업용 기계 및 장비 임대업</td>\n",
       "      <td>46,822,295</td>\n",
       "      <td>46,822,295,000</td>\n",
       "      <td>1,000</td>\n",
       "      <td>원(KRW)</td>\n",
       "      <td>02-6363-9999</td>\n",
       "      <td>서울특별시 송파구 정의로8길 9 (문정동,AJ빌딩)</td>\n",
       "      <td>789</td>\n",
       "      <td>NaN</td>\n",
       "    </tr>\n",
       "    <tr>\n",
       "      <td>1</td>\n",
       "      <td>2</td>\n",
       "      <td>68400</td>\n",
       "      <td>AJ렌터카</td>\n",
       "      <td>147601</td>\n",
       "      <td>운송장비 임대업</td>\n",
       "      <td>22,146,300</td>\n",
       "      <td>11,073,150,000</td>\n",
       "      <td>500</td>\n",
       "      <td>원(KRW)</td>\n",
       "      <td>1544-1600</td>\n",
       "      <td>서울특별시 구로구  서부샛길 822</td>\n",
       "      <td>789</td>\n",
       "      <td>NaN</td>\n",
       "    </tr>\n",
       "    <tr>\n",
       "      <td>2</td>\n",
       "      <td>3</td>\n",
       "      <td>6840</td>\n",
       "      <td>AK홀딩스</td>\n",
       "      <td>116409</td>\n",
       "      <td>기타 금융업</td>\n",
       "      <td>13,247,561</td>\n",
       "      <td>66,237,805,000</td>\n",
       "      <td>5,000</td>\n",
       "      <td>원(KRW)</td>\n",
       "      <td>02-768-2923</td>\n",
       "      <td>서울특별시 마포구 양화로 188 -</td>\n",
       "      <td>789</td>\n",
       "      <td>NaN</td>\n",
       "    </tr>\n",
       "    <tr>\n",
       "      <td>3</td>\n",
       "      <td>4</td>\n",
       "      <td>27410</td>\n",
       "      <td>BGF</td>\n",
       "      <td>116409</td>\n",
       "      <td>기타 금융업</td>\n",
       "      <td>95,716,791</td>\n",
       "      <td>95,716,791,000</td>\n",
       "      <td>1,000</td>\n",
       "      <td>NaN</td>\n",
       "      <td>1577-3663</td>\n",
       "      <td>서울특별시 강남구 테헤란로 405</td>\n",
       "      <td>789</td>\n",
       "      <td>NaN</td>\n",
       "    </tr>\n",
       "    <tr>\n",
       "      <td>4</td>\n",
       "      <td>5</td>\n",
       "      <td>282330</td>\n",
       "      <td>BGF리테일</td>\n",
       "      <td>74701</td>\n",
       "      <td>종합 소매업</td>\n",
       "      <td>17,283,906</td>\n",
       "      <td>17,283,906,000</td>\n",
       "      <td>1,000</td>\n",
       "      <td>원(KRW)</td>\n",
       "      <td>02-1577-8007</td>\n",
       "      <td>서울특별시 강남구 테헤란로 405 BGF사옥</td>\n",
       "      <td>789</td>\n",
       "      <td>NaN</td>\n",
       "    </tr>\n",
       "  </tbody>\n",
       "</table>\n",
       "</div>"
      ],
      "text/plain": [
       "   번호    종목코드     기업명    업종코드               업종    상장주식수(주)          자본금(원)  \\\n",
       "0   1   95570  AJ네트웍스  147603  산업용 기계 및 장비 임대업  46,822,295  46,822,295,000   \n",
       "1   2   68400   AJ렌터카  147601         운송장비 임대업  22,146,300  11,073,150,000   \n",
       "2   3    6840   AK홀딩스  116409           기타 금융업  13,247,561  66,237,805,000   \n",
       "3   4   27410     BGF  116409           기타 금융업  95,716,791  95,716,791,000   \n",
       "4   5  282330  BGF리테일   74701           종합 소매업  17,283,906  17,283,906,000   \n",
       "\n",
       "  액면가(원)    통화구분          대표전화                            주소 총카운트 Unnamed: 12  \n",
       "0  1,000  원(KRW)  02-6363-9999  서울특별시 송파구 정의로8길 9 (문정동,AJ빌딩)  789         NaN  \n",
       "1    500  원(KRW)     1544-1600          서울특별시 구로구  서부샛길 822   789         NaN  \n",
       "2  5,000  원(KRW)   02-768-2923          서울특별시 마포구 양화로 188 -   789         NaN  \n",
       "3  1,000     NaN     1577-3663           서울특별시 강남구 테헤란로 405   789         NaN  \n",
       "4  1,000  원(KRW)  02-1577-8007      서울특별시 강남구 테헤란로 405 BGF사옥  789         NaN  "
      ]
     },
     "execution_count": 20,
     "metadata": {},
     "output_type": "execute_result"
    }
   ],
   "source": [
    "stock_code.head()"
   ]
  },
  {
   "cell_type": "code",
   "execution_count": 21,
   "metadata": {},
   "outputs": [],
   "source": [
    "code_data = []\n",
    "\n",
    "for i in range(len(stock_code)):\n",
    "    str_code = str(stock_code['종목코드'][i])\n",
    "    str_code = str_code.zfill(6)\n",
    "    code_data.append(str_code)"
   ]
  },
  {
   "cell_type": "code",
   "execution_count": 22,
   "metadata": {},
   "outputs": [
    {
     "data": {
      "text/plain": [
       "['095570', '068400', '006840', '027410', '282330']"
      ]
     },
     "execution_count": 22,
     "metadata": {},
     "output_type": "execute_result"
    }
   ],
   "source": [
    "code_data[0:5]"
   ]
  },
  {
   "cell_type": "code",
   "execution_count": 23,
   "metadata": {},
   "outputs": [],
   "source": [
    "#code_data = [\"005930\", \"000660\", \"005380\", \"035420\", \"068270\"]"
   ]
  },
  {
   "cell_type": "code",
   "execution_count": 24,
   "metadata": {},
   "outputs": [],
   "source": [
    "stock_data = []"
   ]
  },
  {
   "cell_type": "code",
   "execution_count": 25,
   "metadata": {},
   "outputs": [],
   "source": [
    "for code in code_data:\n",
    "    target_url = main_url+str(code)\n",
    "    response = requests.get(target_url)\n",
    "    soup = bs(response.content, 'lxml')\n",
    "    data = soup.dailystock.attrs\n",
    "    day_date = data['day_date']\n",
    "    del data['day_date']\n",
    "    for key in data.keys():\n",
    "        data[key]=int(data[key].replace(',',''))\n",
    "    data['day_date'] = day_date\n",
    "    data['code'] = code\n",
    "    stock_data.append(data)    "
   ]
  },
  {
   "cell_type": "code",
   "execution_count": 26,
   "metadata": {},
   "outputs": [],
   "source": [
    "stock_info = pd.DataFrame(stock_data, columns=feature_names)"
   ]
  },
  {
   "cell_type": "code",
   "execution_count": 27,
   "metadata": {},
   "outputs": [
    {
     "data": {
      "text/plain": [
       "(789, 10)"
      ]
     },
     "execution_count": 27,
     "metadata": {},
     "output_type": "execute_result"
    }
   ],
   "source": [
    "stock_info.shape"
   ]
  },
  {
   "cell_type": "code",
   "execution_count": 28,
   "metadata": {},
   "outputs": [
    {
     "data": {
      "text/html": [
       "<div>\n",
       "<style scoped>\n",
       "    .dataframe tbody tr th:only-of-type {\n",
       "        vertical-align: middle;\n",
       "    }\n",
       "\n",
       "    .dataframe tbody tr th {\n",
       "        vertical-align: top;\n",
       "    }\n",
       "\n",
       "    .dataframe thead th {\n",
       "        text-align: right;\n",
       "    }\n",
       "</style>\n",
       "<table border=\"1\" class=\"dataframe\">\n",
       "  <thead>\n",
       "    <tr style=\"text-align: right;\">\n",
       "      <th></th>\n",
       "      <th>day_date</th>\n",
       "      <th>code</th>\n",
       "      <th>day_low</th>\n",
       "      <th>day_high</th>\n",
       "      <th>day_start</th>\n",
       "      <th>day_endprice</th>\n",
       "      <th>day_dungrak</th>\n",
       "      <th>day_getdebi</th>\n",
       "      <th>day_volume</th>\n",
       "      <th>day_getamount</th>\n",
       "    </tr>\n",
       "  </thead>\n",
       "  <tbody>\n",
       "    <tr>\n",
       "      <td>0</td>\n",
       "      <td>19/10/18</td>\n",
       "      <td>095570</td>\n",
       "      <td>4295</td>\n",
       "      <td>4380</td>\n",
       "      <td>4360</td>\n",
       "      <td>4325</td>\n",
       "      <td>2</td>\n",
       "      <td>45</td>\n",
       "      <td>48377</td>\n",
       "      <td>209656110</td>\n",
       "    </tr>\n",
       "    <tr>\n",
       "      <td>1</td>\n",
       "      <td>19/10/18</td>\n",
       "      <td>068400</td>\n",
       "      <td>10750</td>\n",
       "      <td>10950</td>\n",
       "      <td>10900</td>\n",
       "      <td>10800</td>\n",
       "      <td>5</td>\n",
       "      <td>100</td>\n",
       "      <td>84762</td>\n",
       "      <td>918810250</td>\n",
       "    </tr>\n",
       "    <tr>\n",
       "      <td>2</td>\n",
       "      <td>19/10/18</td>\n",
       "      <td>006840</td>\n",
       "      <td>33250</td>\n",
       "      <td>34100</td>\n",
       "      <td>33600</td>\n",
       "      <td>33250</td>\n",
       "      <td>5</td>\n",
       "      <td>500</td>\n",
       "      <td>13104</td>\n",
       "      <td>439123000</td>\n",
       "    </tr>\n",
       "    <tr>\n",
       "      <td>3</td>\n",
       "      <td>19/10/18</td>\n",
       "      <td>027410</td>\n",
       "      <td>6160</td>\n",
       "      <td>6250</td>\n",
       "      <td>6230</td>\n",
       "      <td>6210</td>\n",
       "      <td>5</td>\n",
       "      <td>10</td>\n",
       "      <td>69637</td>\n",
       "      <td>432925150</td>\n",
       "    </tr>\n",
       "    <tr>\n",
       "      <td>4</td>\n",
       "      <td>19/10/18</td>\n",
       "      <td>282330</td>\n",
       "      <td>191500</td>\n",
       "      <td>197000</td>\n",
       "      <td>197000</td>\n",
       "      <td>192500</td>\n",
       "      <td>5</td>\n",
       "      <td>2000</td>\n",
       "      <td>11630</td>\n",
       "      <td>2251149500</td>\n",
       "    </tr>\n",
       "  </tbody>\n",
       "</table>\n",
       "</div>"
      ],
      "text/plain": [
       "   day_date    code  day_low  day_high  day_start  day_endprice  day_dungrak  \\\n",
       "0  19/10/18  095570     4295      4380       4360          4325            2   \n",
       "1  19/10/18  068400    10750     10950      10900         10800            5   \n",
       "2  19/10/18  006840    33250     34100      33600         33250            5   \n",
       "3  19/10/18  027410     6160      6250       6230          6210            5   \n",
       "4  19/10/18  282330   191500    197000     197000        192500            5   \n",
       "\n",
       "   day_getdebi  day_volume  day_getamount  \n",
       "0           45       48377      209656110  \n",
       "1          100       84762      918810250  \n",
       "2          500       13104      439123000  \n",
       "3           10       69637      432925150  \n",
       "4         2000       11630     2251149500  "
      ]
     },
     "execution_count": 28,
     "metadata": {},
     "output_type": "execute_result"
    }
   ],
   "source": [
    "stock_info.head()"
   ]
  },
  {
   "cell_type": "code",
   "execution_count": null,
   "metadata": {},
   "outputs": [],
   "source": []
  }
 ],
 "metadata": {
  "kernelspec": {
   "display_name": "Python 3",
   "language": "python",
   "name": "python3"
  },
  "language_info": {
   "codemirror_mode": {
    "name": "ipython",
    "version": 3
   },
   "file_extension": ".py",
   "mimetype": "text/x-python",
   "name": "python",
   "nbconvert_exporter": "python",
   "pygments_lexer": "ipython3",
   "version": "3.7.3"
  }
 },
 "nbformat": 4,
 "nbformat_minor": 4
}
